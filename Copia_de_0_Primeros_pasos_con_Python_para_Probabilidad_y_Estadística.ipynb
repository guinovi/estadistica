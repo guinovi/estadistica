{
  "nbformat": 4,
  "nbformat_minor": 0,
  "metadata": {
    "kernelspec": {
      "display_name": "Python 3",
      "language": "python",
      "name": "python3"
    },
    "language_info": {
      "codemirror_mode": {
        "name": "ipython",
        "version": 3
      },
      "file_extension": ".py",
      "mimetype": "text/x-python",
      "name": "python",
      "nbconvert_exporter": "python",
      "pygments_lexer": "ipython3",
      "version": "3.8.5"
    },
    "colab": {
      "provenance": [],
      "include_colab_link": true
    }
  },
  "cells": [
    {
      "cell_type": "markdown",
      "metadata": {
        "id": "view-in-github",
        "colab_type": "text"
      },
      "source": [
        "<a href=\"https://colab.research.google.com/github/guinovi/estadistica/blob/main/Copia_de_0_Primeros_pasos_con_Python_para_Probabilidad_y_Estad%C3%ADstica.ipynb\" target=\"_parent\"><img src=\"https://colab.research.google.com/assets/colab-badge.svg\" alt=\"Open In Colab\"/></a>"
      ]
    },
    {
      "cell_type": "markdown",
      "source": [
        "#Material 0: Primeros pasos con Python para Probabilidad y Estadística#\n",
        "\n"
      ],
      "metadata": {
        "id": "-RlPbfjxqSnd"
      }
    },
    {
      "cell_type": "markdown",
      "metadata": {
        "id": "pZTi8I2rpdPu"
      },
      "source": [
        "En estos **primeros pasos con Python**, vamos a explorar las operaciones fundamentales de Python como \"calculadora\" de modo de poder ver cómo se opera y algunas cosas básicas de su sintaxis, cómo se cargan algunos paquetes de librerías que usaremos y nuestro primer acercamiento a las secuencias de control for, if, while.\n",
        "\n",
        "Es probable que ya conozcas muchas cosas de las que se cuenten en estos primeros pasos a partir de tu estudio en otras materias y lenguajes. Si es así, podés omitir el trabajo con este primer Notebook e ir al del Bloque 1 de la Posta 1.\n",
        "\n",
        "Para trabajar en la materia, podés usar estos Notebooks en Google Colab *(archivo --> guardar una copia en Drive)*, o bien, usar el IDE que sea de tu preferencia *(Jupyter Notebook, Spyder, Visual Studio, etc)*."
      ]
    },
    {
      "cell_type": "markdown",
      "metadata": {
        "id": "r3tXgFqGpdPx"
      },
      "source": [
        "# Operaciones fundamentales"
      ]
    },
    {
      "cell_type": "markdown",
      "metadata": {
        "id": "OX4VpEYspdPy"
      },
      "source": [
        "### Suma"
      ]
    },
    {
      "cell_type": "code",
      "metadata": {
        "id": "yY4vfjCNpdPy",
        "colab": {
          "base_uri": "https://localhost:8080/"
        },
        "outputId": "e9e47256-4e44-49fe-c748-bef63db2f8be"
      },
      "source": [
        "# Python como calculadora\n",
        "4+5 # Ctrl-Enter sirve para ejecutar, si no, presionar el botón de \"play\" para ejecutar el código de cada celda"
      ],
      "execution_count": null,
      "outputs": [
        {
          "output_type": "execute_result",
          "data": {
            "text/plain": [
              "9"
            ]
          },
          "metadata": {},
          "execution_count": 1
        }
      ]
    },
    {
      "cell_type": "code",
      "metadata": {
        "id": "ELRk0VK5pdPz",
        "colab": {
          "base_uri": "https://localhost:8080/"
        },
        "outputId": "ec06678f-c790-4119-d5ea-8c1b035a99e2"
      },
      "source": [
        "# Varias operaciones y números, todo al mismo tiempo\n",
        "4 + 3/4 + 9.4"
      ],
      "execution_count": null,
      "outputs": [
        {
          "output_type": "execute_result",
          "data": {
            "text/plain": [
              "14.15"
            ]
          },
          "metadata": {},
          "execution_count": 2
        }
      ]
    },
    {
      "cell_type": "markdown",
      "metadata": {
        "id": "jVrc1ocXpdPz"
      },
      "source": [
        "### Resta"
      ]
    },
    {
      "cell_type": "code",
      "metadata": {
        "id": "fVXWLgB8pdP0"
      },
      "source": [
        "# ¿Y esto cuánto da?\n",
        "4 - 3 - 1"
      ],
      "execution_count": null,
      "outputs": []
    },
    {
      "cell_type": "markdown",
      "metadata": {
        "id": "kCaPtbodpdP0"
      },
      "source": [
        "### Multiplicación"
      ]
    },
    {
      "cell_type": "code",
      "metadata": {
        "id": "c-uhENicpdP1"
      },
      "source": [
        "# La multiplicación va con *\n",
        "3*4"
      ],
      "execution_count": null,
      "outputs": []
    },
    {
      "cell_type": "code",
      "metadata": {
        "scrolled": true,
        "id": "yV9VTT7kpdP1"
      },
      "source": [
        "# Se pueden hacer operaciones combinadas\n",
        "3*4 - 3*2"
      ],
      "execution_count": null,
      "outputs": []
    },
    {
      "cell_type": "markdown",
      "metadata": {
        "id": "JEJjRS3hpdP1"
      },
      "source": [
        "### División"
      ]
    },
    {
      "cell_type": "code",
      "metadata": {
        "id": "YupmrThUpdP2"
      },
      "source": [
        "# Usar /, no \\\n",
        "3/4"
      ],
      "execution_count": null,
      "outputs": []
    },
    {
      "cell_type": "markdown",
      "metadata": {
        "id": "VGk7eLfdpdP2"
      },
      "source": [
        "## Ejemplos"
      ]
    },
    {
      "cell_type": "code",
      "metadata": {
        "id": "Il4rfUKIpdP3"
      },
      "source": [
        "#1) ¿Cuánto da? Anticipar y verificar.\n",
        "5 - (2/4) * (3/5)"
      ],
      "execution_count": null,
      "outputs": []
    },
    {
      "cell_type": "code",
      "metadata": {
        "id": "oK06VV4fpdP3"
      },
      "source": [
        "#2) ¿Cuánto da? Anticipar y verificar.\n",
        "(4-5) / 3+5*6"
      ],
      "execution_count": null,
      "outputs": []
    },
    {
      "cell_type": "markdown",
      "metadata": {
        "id": "ssuj8PLSpdP3"
      },
      "source": [
        "# Variables"
      ]
    },
    {
      "cell_type": "code",
      "metadata": {
        "id": "15Be8RnDpdP3"
      },
      "source": [
        "# Crear una variable asignándole un número\n",
        "x = 17\n",
        "# OJO, acá nada se imprime, es decir, no hay una \"salida\" al ejecutarlo\n",
        "# NO le pedimos a Python que compute algo sino solo que asigne"
      ],
      "execution_count": null,
      "outputs": []
    },
    {
      "cell_type": "code",
      "metadata": {
        "id": "OFupBGgqpdP3"
      },
      "source": [
        "# Una vez definida, la usamos como variable\n",
        "x - 2"
      ],
      "execution_count": null,
      "outputs": []
    },
    {
      "cell_type": "code",
      "metadata": {
        "id": "q8w4a887pdP4"
      },
      "source": [
        "# Reasignamos su valor\n",
        "x = 10"
      ],
      "execution_count": null,
      "outputs": []
    },
    {
      "cell_type": "code",
      "metadata": {
        "id": "weUNLCg4pdP4",
        "colab": {
          "base_uri": "https://localhost:8080/",
          "height": 176
        },
        "outputId": "47412bc2-ca9b-4eec-cf1e-de5d892a2ff7"
      },
      "source": [
        "# Una variable puede reasignarse a sí misma\n",
        "x = x-2*5\n",
        "x"
      ],
      "execution_count": null,
      "outputs": [
        {
          "output_type": "error",
          "ename": "NameError",
          "evalue": "name 'x' is not defined",
          "traceback": [
            "\u001b[0;31m---------------------------------------------------------------------------\u001b[0m",
            "\u001b[0;31mNameError\u001b[0m                                 Traceback (most recent call last)",
            "\u001b[0;32m<ipython-input-3-460ea8ebe37e>\u001b[0m in \u001b[0;36m<cell line: 0>\u001b[0;34m()\u001b[0m\n\u001b[1;32m      1\u001b[0m \u001b[0;31m# Una variable puede reasignarse a sí misma\u001b[0m\u001b[0;34m\u001b[0m\u001b[0;34m\u001b[0m\u001b[0m\n\u001b[0;32m----> 2\u001b[0;31m \u001b[0mx\u001b[0m \u001b[0;34m=\u001b[0m \u001b[0mx\u001b[0m\u001b[0;34m-\u001b[0m\u001b[0;36m2\u001b[0m\u001b[0;34m*\u001b[0m\u001b[0;36m5\u001b[0m\u001b[0;34m\u001b[0m\u001b[0;34m\u001b[0m\u001b[0m\n\u001b[0m\u001b[1;32m      3\u001b[0m \u001b[0mx\u001b[0m\u001b[0;34m\u001b[0m\u001b[0;34m\u001b[0m\u001b[0m\n",
            "\u001b[0;31mNameError\u001b[0m: name 'x' is not defined"
          ]
        }
      ]
    },
    {
      "cell_type": "code",
      "metadata": {
        "id": "MT9ufsKUpdP4"
      },
      "source": [
        "# Varias variables\n",
        "x = 10\n",
        "y = 20\n",
        "z = 30\n",
        "x + y*z"
      ],
      "execution_count": null,
      "outputs": []
    },
    {
      "cell_type": "code",
      "metadata": {
        "id": "qYp4TM27pdP4"
      },
      "source": [
        "# La función print() fuerza a imprimir el o los resultados de la celda en la salida\n",
        "# ¿Qué sucede cuando se corren dos líneas pero sin la función print()?\n",
        "\n",
        "40+10\n",
        "50+3\n",
        "\n",
        "print(40+3)\n",
        "print(10+6)"
      ],
      "execution_count": null,
      "outputs": []
    },
    {
      "cell_type": "markdown",
      "metadata": {
        "id": "Gw5SPU_HpdP5"
      },
      "source": [
        "## Ejemplos"
      ]
    },
    {
      "cell_type": "code",
      "metadata": {
        "id": "b_yV1nuepdP5",
        "colab": {
          "base_uri": "https://localhost:8080/"
        },
        "outputId": "ed609872-95e5-41e1-d442-1e0ff415974b"
      },
      "source": [
        "# 0) Definir las variables\n",
        "x = 7\n",
        "y = -2\n",
        "z = 5\n",
        "\n",
        "# 1) ¿Cuánto da? Anticipar y verificar.\n",
        "3*x*(4+y)"
      ],
      "execution_count": null,
      "outputs": [
        {
          "output_type": "execute_result",
          "data": {
            "text/plain": [
              "42"
            ]
          },
          "metadata": {},
          "execution_count": 4
        }
      ]
    },
    {
      "cell_type": "code",
      "metadata": {
        "id": "YfP2hXO8pdP5"
      },
      "source": [
        "# 2) ¿Cuánto da? ¿Cuánto da? Anticipar y verificar.\n",
        "-y - (x+3)/z"
      ],
      "execution_count": null,
      "outputs": []
    },
    {
      "cell_type": "markdown",
      "metadata": {
        "id": "TlqXcBjwpdP7"
      },
      "source": [
        "# Potencia"
      ]
    },
    {
      "cell_type": "code",
      "metadata": {
        "id": "Lw4XT4aVpdP7"
      },
      "source": [
        "# Se usa con **\n",
        "3**2"
      ],
      "execution_count": null,
      "outputs": []
    },
    {
      "cell_type": "code",
      "metadata": {
        "id": "xhwLFw9QpdP7"
      },
      "source": [
        "# OJO con ^\n",
        "3^1\n",
        "# En realidad, esto es el XOR"
      ],
      "execution_count": null,
      "outputs": []
    },
    {
      "cell_type": "code",
      "metadata": {
        "id": "uSDcqs1bpdP7"
      },
      "source": [
        "# Operamos con variables\n",
        "x = 2\n",
        "3**x"
      ],
      "execution_count": null,
      "outputs": []
    },
    {
      "cell_type": "code",
      "metadata": {
        "id": "fifSg3b9pdP7"
      },
      "source": [
        "# Propiedades de la potenciación\n",
        "print(3**3)\n",
        "print(3*3*3)"
      ],
      "execution_count": null,
      "outputs": []
    },
    {
      "cell_type": "code",
      "metadata": {
        "id": "MTEV4WACpdP7"
      },
      "source": [
        "print( 3**2 * 3**4 )\n",
        "print( 3**(2+4) )"
      ],
      "execution_count": null,
      "outputs": []
    },
    {
      "cell_type": "code",
      "metadata": {
        "id": "NHwocWpApdP8"
      },
      "source": [
        "# Raiz cuadrada como exponente fraccionario\n",
        "x**(1/2)"
      ],
      "execution_count": null,
      "outputs": []
    },
    {
      "cell_type": "markdown",
      "metadata": {
        "id": "dtTrx2FMpdP8"
      },
      "source": [
        "## Ejemplos"
      ]
    },
    {
      "cell_type": "code",
      "metadata": {
        "id": "UHLtVCpppdP8"
      },
      "source": [
        "# 0) Definir las variables\n",
        "x = 5\n",
        "y = 5.1\n",
        "\n",
        "# 1) ¿Cuánto da? Anticipar y verificar\n",
        "x**(3/4) * 4**y\n",
        "(3**3) / (x**y)\n",
        "10**(x-4)"
      ],
      "execution_count": null,
      "outputs": []
    },
    {
      "cell_type": "markdown",
      "metadata": {
        "id": "9uMS21hlpdP8"
      },
      "source": [
        "# Primeros pasos en las secuencias de control: el ciclo *for*..."
      ]
    },
    {
      "cell_type": "code",
      "metadata": {
        "id": "EQtXIBhMpdP8",
        "colab": {
          "base_uri": "https://localhost:8080/"
        },
        "outputId": "9659fbc0-3215-43ba-9a82-ee6823bbbe36"
      },
      "source": [
        "# List y range (noten que los rangos siempre son cerrados a izquierda y abiertos a derecha).\n",
        "# Con list me armo una lista de los valores del rango\n",
        "a= list( range(0,3) )\n",
        "print(a)"
      ],
      "execution_count": null,
      "outputs": [
        {
          "output_type": "stream",
          "name": "stdout",
          "text": [
            "[0, 1, 2]\n"
          ]
        }
      ]
    },
    {
      "cell_type": "code",
      "metadata": {
        "id": "_RmVOkRopdP8",
        "colab": {
          "base_uri": "https://localhost:8080/"
        },
        "outputId": "66c9e8e9-b265-47d6-e8aa-11290860af69"
      },
      "source": [
        "# Mi primer loop <3\n",
        "# for <índice> in <rango>: <acción>\n",
        "for i in [0,1,2,3]: # Acá, la lista del rango la uso enumerando los elementos entre corchetes y separados por coma\n",
        "    print(i)\n",
        "\n",
        "    # El i es el índice en el que se mueve este loop: recorre el rango indicado e imprime cada uno de ellos (acción)."
      ],
      "execution_count": null,
      "outputs": [
        {
          "output_type": "stream",
          "name": "stdout",
          "text": [
            "0\n",
            "1\n",
            "2\n",
            "3\n"
          ]
        }
      ]
    },
    {
      "cell_type": "code",
      "metadata": {
        "id": "Edk4cswLpdP8",
        "colab": {
          "base_uri": "https://localhost:8080/"
        },
        "outputId": "d82b8fd6-af6f-4f5c-bd77-d40f9f6ea246"
      },
      "source": [
        "for i in range(0,3):\n",
        "    print('Este es el %g-ésimo elemento.'%(i+1)) # Podemos concatenar texto con diferentes salidas"
      ],
      "execution_count": null,
      "outputs": [
        {
          "output_type": "stream",
          "name": "stdout",
          "text": [
            "Este es el 1-ésimo elemento.\n",
            "Este es el 2-ésimo elemento.\n",
            "Este es el 3-ésimo elemento.\n"
          ]
        }
      ]
    },
    {
      "cell_type": "code",
      "metadata": {
        "id": "xc84JDLjpdP8",
        "colab": {
          "base_uri": "https://localhost:8080/"
        },
        "outputId": "b5cfded3-41cb-4539-da54-79bbd02f6eda"
      },
      "source": [
        "rango = range(0,3)\n",
        "for i in rango:\n",
        "    print('Este es el %g-ésimo elemento.'%(i+1)) # Podemos concatenar texto con diferentes salidas"
      ],
      "execution_count": null,
      "outputs": [
        {
          "output_type": "stream",
          "name": "stdout",
          "text": [
            "Este es el 1-ésimo elemento.\n",
            "Este es el 2-ésimo elemento.\n",
            "Este es el 3-ésimo elemento.\n"
          ]
        }
      ]
    },
    {
      "cell_type": "code",
      "metadata": {
        "id": "jbFmMGR3pdP8",
        "colab": {
          "base_uri": "https://localhost:8080/"
        },
        "outputId": "2e7fe463-ab4d-4399-d5e4-e7a1aee2164b"
      },
      "source": [
        "for i in range(0,5):\n",
        "    num = i**2\n",
        "    print(num)"
      ],
      "execution_count": null,
      "outputs": [
        {
          "output_type": "stream",
          "name": "stdout",
          "text": [
            "0\n",
            "1\n",
            "4\n",
            "9\n",
            "16\n"
          ]
        }
      ]
    },
    {
      "cell_type": "markdown",
      "metadata": {
        "id": "gHIliFRMpdP9"
      },
      "source": [
        "## Ejemplos"
      ]
    },
    {
      "cell_type": "code",
      "metadata": {
        "id": "nicOYLlFpdP9",
        "colab": {
          "base_uri": "https://localhost:8080/"
        },
        "outputId": "3b534607-01b1-4103-a683-489141d82ce0"
      },
      "source": [
        "#1) Calcular e imprimir las potencias de 2 desde 0 hasta 9\n",
        "base = 2\n",
        "\n",
        "for i in range(0,10):\n",
        "    pot = base**i\n",
        "    print(pot)\n",
        "\n",
        "# ¡Pero qué pituco, Don Python!\n",
        "for i in range(0,10):\n",
        "    print('%g a la potencia de %g es %g'%(base,i,base**i))\n"
      ],
      "execution_count": null,
      "outputs": [
        {
          "output_type": "stream",
          "name": "stdout",
          "text": [
            "1\n",
            "2\n",
            "4\n",
            "8\n",
            "16\n",
            "32\n",
            "64\n",
            "128\n",
            "256\n",
            "512\n",
            "2 a la potencia de 0 es 1\n",
            "2 a la potencia de 1 es 2\n",
            "2 a la potencia de 2 es 4\n",
            "2 a la potencia de 3 es 8\n",
            "2 a la potencia de 4 es 16\n",
            "2 a la potencia de 5 es 32\n",
            "2 a la potencia de 6 es 64\n",
            "2 a la potencia de 7 es 128\n",
            "2 a la potencia de 8 es 256\n",
            "2 a la potencia de 9 es 512\n"
          ]
        }
      ]
    },
    {
      "cell_type": "markdown",
      "metadata": {
        "id": "KJ8eZeXopdP9"
      },
      "source": [
        "# ¿Orden de las operaciones? Más bien: consenso"
      ]
    },
    {
      "cell_type": "code",
      "metadata": {
        "id": "kwdzE8ZRpdP9",
        "colab": {
          "base_uri": "https://localhost:8080/"
        },
        "outputId": "54715389-273f-4a55-f7a6-5d2285b90b4e"
      },
      "source": [
        "print( 4 + 3 * 2 - 1 )"
      ],
      "execution_count": null,
      "outputs": [
        {
          "output_type": "stream",
          "name": "stdout",
          "text": [
            "9\n"
          ]
        }
      ]
    },
    {
      "cell_type": "code",
      "metadata": {
        "id": "3Q_b-eg5pdP9",
        "colab": {
          "base_uri": "https://localhost:8080/"
        },
        "outputId": "a8a63294-04c2-45c2-bc3e-5f1ac3f685aa"
      },
      "source": [
        "# ¿24 o 10?\n",
        "4 + 2 * 3"
      ],
      "execution_count": null,
      "outputs": [
        {
          "output_type": "execute_result",
          "data": {
            "text/plain": [
              "10"
            ]
          },
          "metadata": {},
          "execution_count": 12
        }
      ]
    },
    {
      "cell_type": "code",
      "metadata": {
        "id": "AJ3dZADxpdP9",
        "colab": {
          "base_uri": "https://localhost:8080/"
        },
        "outputId": "45435aa6-e721-47fe-a693-ccb5d4696075"
      },
      "source": [
        "# ¿7 o -11?\n",
        "2 - 4 + 9"
      ],
      "execution_count": null,
      "outputs": [
        {
          "output_type": "execute_result",
          "data": {
            "text/plain": [
              "7"
            ]
          },
          "metadata": {},
          "execution_count": 13
        }
      ]
    },
    {
      "cell_type": "markdown",
      "metadata": {
        "id": "beZhD6k1pdP9"
      },
      "source": [
        "## Ejemplos"
      ]
    },
    {
      "cell_type": "code",
      "metadata": {
        "id": "4ieRWjK1pdP9"
      },
      "source": [
        "# 1) ¿Cuánto da cada uno? ¿Pueden llegar a valer lo mismo cambiando solo el orden de las operaciones?\n",
        "print( 4*5/(7+3) )\n",
        "\n",
        "print( 9/(3+6)-1 )"
      ],
      "execution_count": null,
      "outputs": []
    },
    {
      "cell_type": "markdown",
      "metadata": {
        "id": "fzswPJS8pdP-"
      },
      "source": [
        "# Expresiones relacionales y lógicas"
      ]
    },
    {
      "cell_type": "code",
      "metadata": {
        "id": "DvtsUcqQpdP-",
        "colab": {
          "base_uri": "https://localhost:8080/"
        },
        "outputId": "42d09eda-4f64-4709-8bdb-d92e27a1b742"
      },
      "source": [
        "# Esto solo puede ser Verdadero o Falso\n",
        "4>5"
      ],
      "execution_count": null,
      "outputs": [
        {
          "output_type": "execute_result",
          "data": {
            "text/plain": [
              "False"
            ]
          },
          "metadata": {},
          "execution_count": 14
        }
      ]
    },
    {
      "cell_type": "code",
      "metadata": {
        "id": "zDTYytvzpdP-",
        "colab": {
          "base_uri": "https://localhost:8080/"
        },
        "outputId": "495625fa-3e10-41bd-ae55-d643a67d74c8"
      },
      "source": [
        "print(5<5.1)"
      ],
      "execution_count": null,
      "outputs": [
        {
          "output_type": "stream",
          "name": "stdout",
          "text": [
            "True\n"
          ]
        }
      ]
    },
    {
      "cell_type": "code",
      "metadata": {
        "id": "3J-jU26qpdP-",
        "colab": {
          "base_uri": "https://localhost:8080/"
        },
        "outputId": "ca96bd16-4316-4132-f862-d540640aa34b"
      },
      "source": [
        "b = 10 > 3*3.33334\n",
        "\n",
        "print(b)\n",
        "print(type(b)) # el tipo de variable es boolean"
      ],
      "execution_count": null,
      "outputs": [
        {
          "output_type": "stream",
          "name": "stdout",
          "text": [
            "False\n",
            "<class 'bool'>\n"
          ]
        }
      ]
    },
    {
      "cell_type": "code",
      "metadata": {
        "id": "fKwOa0hDpdP-",
        "colab": {
          "base_uri": "https://localhost:8080/"
        },
        "outputId": "96454fe9-ae6d-4ed1-dd18-6785e73c0634"
      },
      "source": [
        "4 >= 2+2"
      ],
      "execution_count": null,
      "outputs": [
        {
          "output_type": "execute_result",
          "data": {
            "text/plain": [
              "True"
            ]
          },
          "metadata": {},
          "execution_count": 17
        }
      ]
    },
    {
      "cell_type": "code",
      "metadata": {
        "id": "XJ17IyGWpdP-",
        "colab": {
          "base_uri": "https://localhost:8080/"
        },
        "outputId": "bcdc7b27-4e00-42da-be7d-035fac36e016"
      },
      "source": [
        "5 <= 3*2-1.00000000001"
      ],
      "execution_count": null,
      "outputs": [
        {
          "output_type": "execute_result",
          "data": {
            "text/plain": [
              "False"
            ]
          },
          "metadata": {},
          "execution_count": 18
        }
      ]
    },
    {
      "cell_type": "code",
      "metadata": {
        "id": "J-wo87oSpdP-",
        "colab": {
          "base_uri": "https://localhost:8080/"
        },
        "outputId": "ac7d0703-4798-4873-c33d-6cdc1b7c0ac2"
      },
      "source": [
        "# Testear igualdades requiere DOS símbolos =\n",
        "# Quiero ver si 4 = 4\n",
        "4 == 4\n",
        "\n",
        "test = 4 == 5\n",
        "print(test)\n",
        "print( 4 == 4)"
      ],
      "execution_count": null,
      "outputs": [
        {
          "output_type": "stream",
          "name": "stdout",
          "text": [
            "False\n",
            "True\n"
          ]
        }
      ]
    },
    {
      "cell_type": "markdown",
      "metadata": {
        "id": "iqsW1fCtpdP-"
      },
      "source": [
        "## Ejemplos"
      ]
    },
    {
      "cell_type": "code",
      "metadata": {
        "id": "Hu1trHwfpdP-",
        "colab": {
          "base_uri": "https://localhost:8080/"
        },
        "outputId": "f3880789-60e6-441b-b08c-a08553e1ac01"
      },
      "source": [
        "# ¿Cuánto da? Anticipar y verificar.\n",
        "x = 2\n",
        "x = 3\n",
        "x = 4\n",
        "\n",
        "# 1)\n",
        "print( 4*x+3 < 17-x**2 )\n",
        "\n",
        "#2)\n",
        "print( 8*x - 2 <= -3*x + 42 )"
      ],
      "execution_count": null,
      "outputs": [
        {
          "output_type": "stream",
          "name": "stdout",
          "text": [
            "False\n",
            "True\n"
          ]
        }
      ]
    },
    {
      "cell_type": "markdown",
      "metadata": {
        "id": "UoyYFh23pdP-"
      },
      "source": [
        "# If y operadores lógicos"
      ]
    },
    {
      "cell_type": "code",
      "metadata": {
        "id": "e--oEGVnpdP_",
        "colab": {
          "base_uri": "https://localhost:8080/"
        },
        "outputId": "6dd1cb10-661d-4c0d-d072-8fbde0330a1f"
      },
      "source": [
        "# El if funciona como el \"si...entonces\"\n",
        "# if <condición>: <acción bajo condición> else: <acción fuera de condición>\n",
        "\n",
        "# Algo simple:\n",
        "if 4+2 == 7: # if <condición>:\n",
        "    print('¡Verdadero!') # <acción bajo condición>\n",
        "else:\n",
        "    print('¡Falso!') #else: <acción fuera de condición>"
      ],
      "execution_count": null,
      "outputs": [
        {
          "output_type": "stream",
          "name": "stdout",
          "text": [
            "¡Falso!\n"
          ]
        }
      ]
    },
    {
      "cell_type": "code",
      "metadata": {
        "id": "lyK8SynhpdP_"
      },
      "source": [
        "# Ahora con variables\n",
        "x1 = 3\n",
        "x2 = 4\n",
        "\n",
        "if x1>x2:\n",
        "    print('%g es mayor que %g' %(x1,x2))\n",
        "elif x1<x2:  # Condiciones: uso elif\n",
        "    print('%g es menor que %g' %(x1,x2))\n",
        "else:\n",
        "    print('%g es igual que %g' %(x1,x2))"
      ],
      "execution_count": null,
      "outputs": []
    },
    {
      "cell_type": "code",
      "metadata": {
        "id": "yY-JG9d7pdP_"
      },
      "source": [
        "# Con operadores lógicos o e y\n",
        "x = 1\n",
        "y = 2\n",
        "z = 3\n",
        "\n",
        "if x+y<z or x-z>y: # Or\n",
        "    print('Afirmación 1')\n",
        "elif 2*x+y>z and 2*z-x>y: # And\n",
        "    print('Afirmación 2')"
      ],
      "execution_count": null,
      "outputs": []
    },
    {
      "cell_type": "markdown",
      "metadata": {
        "id": "JIMXlvxbpdP_"
      },
      "source": [
        "## Ejemplos"
      ]
    },
    {
      "cell_type": "code",
      "metadata": {
        "id": "CrkOWeZopdP_",
        "colab": {
          "base_uri": "https://localhost:8080/",
          "height": 261
        },
        "outputId": "18deb71c-9f06-45d1-e716-8d9d12b7f3ba"
      },
      "source": [
        "#1) ¿Qué se obtiene con este código? Anticipar y verificar.\n",
        "# Importamos funciones especiales que no están en el entorno del paquete base\n",
        "# Acá vamos a importar display y Math para poder \"ver mejor\" los resultados de las salidas\n",
        "# NOTA: en general, no vamos a usar estas librerías puntualmente, sino otras que nos sean útiles en el estudio de la probabilidad y la estadística.\n",
        "from IPython.display import display, Math\n",
        "\n",
        "for i in range(0,4):\n",
        "    for j in range(0,5):\n",
        "        if j>0 and i>0:\n",
        "            display(Math('%g^{-%g} = %g' %(i,j,i**-j)))"
      ],
      "execution_count": null,
      "outputs": [
        {
          "output_type": "display_data",
          "data": {
            "text/plain": [
              "<IPython.core.display.Math object>"
            ],
            "text/latex": "$\\displaystyle 1^{-1} = 1$"
          },
          "metadata": {}
        },
        {
          "output_type": "display_data",
          "data": {
            "text/plain": [
              "<IPython.core.display.Math object>"
            ],
            "text/latex": "$\\displaystyle 1^{-2} = 1$"
          },
          "metadata": {}
        },
        {
          "output_type": "display_data",
          "data": {
            "text/plain": [
              "<IPython.core.display.Math object>"
            ],
            "text/latex": "$\\displaystyle 1^{-3} = 1$"
          },
          "metadata": {}
        },
        {
          "output_type": "display_data",
          "data": {
            "text/plain": [
              "<IPython.core.display.Math object>"
            ],
            "text/latex": "$\\displaystyle 1^{-4} = 1$"
          },
          "metadata": {}
        },
        {
          "output_type": "display_data",
          "data": {
            "text/plain": [
              "<IPython.core.display.Math object>"
            ],
            "text/latex": "$\\displaystyle 2^{-1} = 0.5$"
          },
          "metadata": {}
        },
        {
          "output_type": "display_data",
          "data": {
            "text/plain": [
              "<IPython.core.display.Math object>"
            ],
            "text/latex": "$\\displaystyle 2^{-2} = 0.25$"
          },
          "metadata": {}
        },
        {
          "output_type": "display_data",
          "data": {
            "text/plain": [
              "<IPython.core.display.Math object>"
            ],
            "text/latex": "$\\displaystyle 2^{-3} = 0.125$"
          },
          "metadata": {}
        },
        {
          "output_type": "display_data",
          "data": {
            "text/plain": [
              "<IPython.core.display.Math object>"
            ],
            "text/latex": "$\\displaystyle 2^{-4} = 0.0625$"
          },
          "metadata": {}
        },
        {
          "output_type": "display_data",
          "data": {
            "text/plain": [
              "<IPython.core.display.Math object>"
            ],
            "text/latex": "$\\displaystyle 3^{-1} = 0.333333$"
          },
          "metadata": {}
        },
        {
          "output_type": "display_data",
          "data": {
            "text/plain": [
              "<IPython.core.display.Math object>"
            ],
            "text/latex": "$\\displaystyle 3^{-2} = 0.111111$"
          },
          "metadata": {}
        },
        {
          "output_type": "display_data",
          "data": {
            "text/plain": [
              "<IPython.core.display.Math object>"
            ],
            "text/latex": "$\\displaystyle 3^{-3} = 0.037037$"
          },
          "metadata": {}
        },
        {
          "output_type": "display_data",
          "data": {
            "text/plain": [
              "<IPython.core.display.Math object>"
            ],
            "text/latex": "$\\displaystyle 3^{-4} = 0.0123457$"
          },
          "metadata": {}
        }
      ]
    },
    {
      "cell_type": "code",
      "source": [
        "#1) Podemos eludir la librería y usar solo print()\n",
        "from IPython.display import display, Math\n",
        "\n",
        "for i in range(0,4):\n",
        "    for j in range(0,5):\n",
        "        if j>0 and i>0:\n",
        "            print('%g^{-%g} = %g' %(i,j,i**-j))"
      ],
      "metadata": {
        "id": "qy-H9tzxigPE",
        "colab": {
          "base_uri": "https://localhost:8080/"
        },
        "outputId": "aeb45b12-0adf-4804-c13b-0af2ed27df98"
      },
      "execution_count": null,
      "outputs": [
        {
          "output_type": "stream",
          "name": "stdout",
          "text": [
            "1^{-1} = 1\n",
            "1^{-2} = 1\n",
            "1^{-3} = 1\n",
            "1^{-4} = 1\n",
            "2^{-1} = 0.5\n",
            "2^{-2} = 0.25\n",
            "2^{-3} = 0.125\n",
            "2^{-4} = 0.0625\n",
            "3^{-1} = 0.333333\n",
            "3^{-2} = 0.111111\n",
            "3^{-3} = 0.037037\n",
            "3^{-4} = 0.0123457\n"
          ]
        }
      ]
    },
    {
      "cell_type": "markdown",
      "metadata": {
        "id": "4TG--JxZpdP_"
      },
      "source": [
        "# Valor absoluto"
      ]
    },
    {
      "cell_type": "code",
      "metadata": {
        "id": "vOptpoqZpdP_",
        "colab": {
          "base_uri": "https://localhost:8080/"
        },
        "outputId": "633ce2dc-475f-4088-a1f8-15f74973676c"
      },
      "source": [
        "a = -4\n",
        "abs(a)"
      ],
      "execution_count": 1,
      "outputs": [
        {
          "output_type": "execute_result",
          "data": {
            "text/plain": [
              "4"
            ]
          },
          "metadata": {},
          "execution_count": 1
        }
      ]
    },
    {
      "cell_type": "code",
      "metadata": {
        "id": "a5CqULoEpdP_",
        "colab": {
          "base_uri": "https://localhost:8080/"
        },
        "outputId": "cd4bd0e7-fe1c-4c35-f4b3-b4455d3d6b9a"
      },
      "source": [
        "b = abs(a)\n",
        "a,b"
      ],
      "execution_count": 2,
      "outputs": [
        {
          "output_type": "execute_result",
          "data": {
            "text/plain": [
              "(-4, 4)"
            ]
          },
          "metadata": {},
          "execution_count": 2
        }
      ]
    },
    {
      "cell_type": "code",
      "metadata": {
        "id": "2A0ncrYnpdP_",
        "colab": {
          "base_uri": "https://localhost:8080/"
        },
        "outputId": "f04f167f-f54d-42ef-e7de-68a828dd9f13"
      },
      "source": [
        "x = -4.3\n",
        "\n",
        "print('|%g| = %g' %(x,abs(x)) )"
      ],
      "execution_count": 3,
      "outputs": [
        {
          "output_type": "stream",
          "name": "stdout",
          "text": [
            "|-4.3| = 4.3\n"
          ]
        }
      ]
    },
    {
      "cell_type": "markdown",
      "metadata": {
        "id": "77tBTTNupdP_"
      },
      "source": [
        "## Ejemplos"
      ]
    },
    {
      "cell_type": "code",
      "metadata": {
        "id": "VazjsBNTpdQA",
        "colab": {
          "base_uri": "https://localhost:8080/"
        },
        "outputId": "eb50a323-b4f7-4dd1-b160-d0af783944bd"
      },
      "source": [
        "#1) Calculá el valor absoluto de estos números solo si son menores que -5 o mayores que +2\n",
        "numbers = [-4,6,-1,43,-18,2,0]\n",
        "\n",
        "# Armamos el bucle for para recorrer los números de la lista.\n",
        "# Luego, para cada uno de ellos, vamos a tener que usar otra estrucura para verificar que se cumpla la condición: el if.\n",
        "for i in numbers:\n",
        "    if i<-5 or i>2:\n",
        "        print( 'El valor absoluto de %g es %g.' %(i,abs(i)) )\n",
        "    else:\n",
        "        print( str(i) + ' no fue testeado.' )"
      ],
      "execution_count": 4,
      "outputs": [
        {
          "output_type": "stream",
          "name": "stdout",
          "text": [
            "-4 no fue testeado.\n",
            "El valor absoluto de 6 es 6.\n",
            "-1 no fue testeado.\n",
            "El valor absoluto de 43 es 43.\n",
            "El valor absoluto de -18 es 18.\n",
            "2 no fue testeado.\n",
            "0 no fue testeado.\n"
          ]
        }
      ]
    },
    {
      "cell_type": "markdown",
      "metadata": {
        "id": "R2x2grLXpdQA"
      },
      "source": [
        "# División entera y resto"
      ]
    },
    {
      "cell_type": "code",
      "metadata": {
        "id": "Sp7vT1-3pdQA",
        "colab": {
          "base_uri": "https://localhost:8080/"
        },
        "outputId": "94360e94-9926-4d49-febb-df24ee48a863"
      },
      "source": [
        "a = 10\n",
        "b = 3\n",
        "\n",
        "# División\n",
        "a/b"
      ],
      "execution_count": 5,
      "outputs": [
        {
          "output_type": "execute_result",
          "data": {
            "text/plain": [
              "3.3333333333333335"
            ]
          },
          "metadata": {},
          "execution_count": 5
        }
      ]
    },
    {
      "cell_type": "code",
      "metadata": {
        "id": "hTqqhj3OpdQA",
        "colab": {
          "base_uri": "https://localhost:8080/"
        },
        "outputId": "cdc66155-0e91-4aa2-d9b4-e256c77fcafb"
      },
      "source": [
        "# División entera\n",
        "int(a/b) #¿qué hace int?"
      ],
      "execution_count": 8,
      "outputs": [
        {
          "output_type": "execute_result",
          "data": {
            "text/plain": [
              "3"
            ]
          },
          "metadata": {},
          "execution_count": 8
        }
      ]
    },
    {
      "cell_type": "code",
      "metadata": {
        "id": "D5nl7AbOpdQA",
        "colab": {
          "base_uri": "https://localhost:8080/"
        },
        "outputId": "1affacb0-1d63-49b2-944b-78043c42195b"
      },
      "source": [
        "# Resto\n",
        "a%b"
      ],
      "execution_count": 7,
      "outputs": [
        {
          "output_type": "execute_result",
          "data": {
            "text/plain": [
              "1"
            ]
          },
          "metadata": {},
          "execution_count": 7
        }
      ]
    },
    {
      "cell_type": "code",
      "metadata": {
        "id": "EQAA2rKTpdQA",
        "colab": {
          "base_uri": "https://localhost:8080/"
        },
        "outputId": "047d95fe-4939-4785-d1f8-85263eb36d13"
      },
      "source": [
        "division = int(a/b)\n",
        "remainder = a%b\n",
        "\n",
        "print(\"%g cabe en %g, %g veces con un resto de %g.\" %(b,a,division,remainder))"
      ],
      "execution_count": 9,
      "outputs": [
        {
          "output_type": "stream",
          "name": "stdout",
          "text": [
            "3 cabe en 10, 3 veces con un resto de 1.\n"
          ]
        }
      ]
    },
    {
      "cell_type": "markdown",
      "metadata": {
        "id": "ZanM7DAnpdQA"
      },
      "source": [
        "## Ejemplos"
      ]
    },
    {
      "cell_type": "code",
      "metadata": {
        "scrolled": true,
        "id": "6pSQv9CppdQA",
        "colab": {
          "base_uri": "https://localhost:8080/"
        },
        "outputId": "1a477e55-1221-4172-ff27-3bb3e796a684"
      },
      "source": [
        "#1) Escribí el código para determinar, de una lista de números, cuando es par o impar.\n",
        "\n",
        "nums = range(-5,6)\n",
        "\n",
        "for i in nums:\n",
        "\n",
        "    # Le da un espacio adicional a los positivos para que queden encolumndados (se ve mejor)\n",
        "    firstchar = '' if i<0  else ' '\n",
        "\n",
        "    # test y salida\n",
        "    if i%2 == 0:\n",
        "        print('%s%g es un número par' %(firstchar,i))\n",
        "    else:\n",
        "        print('%s%g es un número impar' %(firstchar,i))"
      ],
      "execution_count": 10,
      "outputs": [
        {
          "output_type": "stream",
          "name": "stdout",
          "text": [
            "-5 es un número impar\n",
            "-4 es un número par\n",
            "-3 es un número impar\n",
            "-2 es un número par\n",
            "-1 es un número impar\n",
            " 0 es un número par\n",
            " 1 es un número impar\n",
            " 2 es un número par\n",
            " 3 es un número impar\n",
            " 4 es un número par\n",
            " 5 es un número impar\n"
          ]
        }
      ]
    },
    {
      "cell_type": "markdown",
      "metadata": {
        "id": "rHB2fVzQpdQA"
      },
      "source": [
        "# Mi primera función"
      ]
    },
    {
      "cell_type": "code",
      "metadata": {
        "id": "vHW-fbLCpdQB"
      },
      "source": [
        "# Creamos una función que toma dos números y devuelve el cociente y el resto.\n",
        "# Definir la función con def. Usar un nombre alusivo. Entre paréntesis, los argumentos que requiera (si es que los requiere).\n",
        "def computa_resto(x,y):\n",
        "    cociente  = int( x/y )\n",
        "    resto = x%y\n",
        "\n",
        "    print(\"%g cabe en %g, %g veces con un resto de %g.\" %(y,x,cociente,resto))\n",
        ""
      ],
      "execution_count": 16,
      "outputs": []
    },
    {
      "cell_type": "code",
      "metadata": {
        "id": "OLmQTJprpdQB",
        "colab": {
          "base_uri": "https://localhost:8080/"
        },
        "outputId": "503c232f-3542-4b40-95cc-c00fdc6100c1"
      },
      "source": [
        "computa_resto(10,3)"
      ],
      "execution_count": 13,
      "outputs": [
        {
          "output_type": "stream",
          "name": "stdout",
          "text": [
            "3 cabe en 10, 3 veces con un resto de 1.\n"
          ]
        }
      ]
    },
    {
      "cell_type": "code",
      "metadata": {
        "id": "hn2FXLw5pdQB"
      },
      "source": [
        "# Lo mismo que antes pero ahora es el ususario el que ingresa los números.\n",
        "# Definir la función. Ahora va sin argumentos porque el input lo hace el usuario. Esto hay que definirlo en la función.\n",
        "# Para pedir un ingreso por el usuario, se usa input()\n",
        "def computa_resto():\n",
        "    x = int( input('Ingresar el dividendo: ') )\n",
        "    y = int( input('Ingresar el divisor: ') )\n",
        "    cociente  = int( x/y )\n",
        "    resto = x%y\n",
        "\n",
        "    print(\"%g cabe en %g, %g veces con un resto de %g.\" %(y,x,cociente,resto))"
      ],
      "execution_count": 17,
      "outputs": []
    },
    {
      "cell_type": "code",
      "metadata": {
        "id": "Lklh5DgMpdQB",
        "colab": {
          "base_uri": "https://localhost:8080/"
        },
        "outputId": "cc5d53af-2813-44a0-eed0-380f24de507b"
      },
      "source": [
        "# La pruebo\n",
        "computa_resto()"
      ],
      "execution_count": 19,
      "outputs": [
        {
          "output_type": "stream",
          "name": "stdout",
          "text": [
            "Ingresar el dividendo: 10\n",
            "Ingresar el divisor: 2\n",
            "2 cabe en 10, 5 veces con un resto de 0.\n"
          ]
        }
      ]
    },
    {
      "cell_type": "code",
      "metadata": {
        "id": "9b-FxDz6pdQB"
      },
      "source": [
        "# ¿Qué hace esta función?\n",
        "def potencia():\n",
        "    # los inputs\n",
        "    n1 = int( input('Ingresá un número: ') )\n",
        "    n2 = int( input('Ingresá otro número: ') )\n",
        "\n",
        "    # testea algo, luego devuelve algo\n",
        "    if abs(n1)>abs(n2):\n",
        "        return n1,n2,n1**n2 # con return obtengo la salida como con print pero también \"corto\" la ejecución de la función\n",
        "    else:\n",
        "        return n2,n1,n2**n1"
      ],
      "execution_count": 23,
      "outputs": []
    },
    {
      "cell_type": "code",
      "metadata": {
        "id": "Z3VhOmmCpdQB",
        "colab": {
          "base_uri": "https://localhost:8080/"
        },
        "outputId": "728735eb-4b6d-4a30-c8c6-3bba06e356f3"
      },
      "source": [
        "# La pruebo\n",
        "nro1,nro2,salida = potencia() # ¿Por qué hago esto? ... prueben correr solo potencia() para ver qué pasa\n",
        "\n",
        "print('%g^{%g} = %g '%(nro1,nro2,salida))"
      ],
      "execution_count": 24,
      "outputs": [
        {
          "output_type": "stream",
          "name": "stdout",
          "text": [
            "Ingresá un número: 2\n",
            "Ingresá otro número: 2\n",
            "2^{2} = 4 \n"
          ]
        }
      ]
    },
    {
      "cell_type": "code",
      "metadata": {
        "id": "yYKO93YkrDl2",
        "colab": {
          "base_uri": "https://localhost:8080/"
        },
        "outputId": "ed71fcb8-32ed-444d-b995-0cc53fbc78d8"
      },
      "source": [
        "potencia()"
      ],
      "execution_count": 25,
      "outputs": [
        {
          "name": "stdout",
          "output_type": "stream",
          "text": [
            "Ingresá un número: 3\n",
            "Ingresá otro número: 1\n"
          ]
        },
        {
          "output_type": "execute_result",
          "data": {
            "text/plain": [
              "(3, 1, 3)"
            ]
          },
          "metadata": {},
          "execution_count": 25
        }
      ]
    },
    {
      "cell_type": "code",
      "metadata": {
        "id": "AyiAvG_CpdQC",
        "colab": {
          "base_uri": "https://localhost:8080/"
        },
        "outputId": "15c2d0a0-a3c6-4e12-bd19-a67b0e3be27f"
      },
      "source": [
        "# La mejoro (para no tener que hacer lo de la línea anterior)\n",
        "def potencia():\n",
        "    # los inputs\n",
        "    n1 = int( input('Ingresá un número: ') )\n",
        "    n2 = int( input('Ingresá otro número: ') )\n",
        "\n",
        "    # testea algo, luego devuelve algo\n",
        "    if abs(n1)>abs(n2):\n",
        "        return print('%g^{%g} = %g '%(n1,n2,n1**n2))\n",
        "    else:\n",
        "        return print('%g^{%g} = %g '%(n1,n2,n1**n2))\n",
        "\n",
        "potencia()"
      ],
      "execution_count": 27,
      "outputs": [
        {
          "output_type": "stream",
          "name": "stdout",
          "text": [
            "Ingresá un número: 2\n",
            "Ingresá otro número: 3\n",
            "2^{3} = 8 \n"
          ]
        }
      ]
    },
    {
      "cell_type": "markdown",
      "metadata": {
        "id": "CCbwwcULpdQD"
      },
      "source": [
        "# DESAFÍO: Adivina adivinador"
      ]
    },
    {
      "cell_type": "code",
      "metadata": {
        "id": "gP-qG3VIpdQD"
      },
      "source": [
        "# Nuestro primer programa un poquito más completo\n",
        "# Adiviná el número. La máquina elige un número aleatorio y el usuario tiene que adivinarlo.\n",
        "# En el camino, el usuario va recibiendo pistas para hacerlo hasta que lo logra.\n",
        "\n",
        "# Importamos la función random de la librería numpy (vamos a usar muuuuucho la librería numpy en las próximas guías)\n",
        "from numpy import random\n",
        "\n",
        "def adivinador():\n",
        "    nro = random.randint(1,101) # random.randint es la función para generar un número pseudo-aleatorio entero de un rango\n",
        "\n",
        "    userguess = int( input('¡Hola! Estoy pensando en un número del 1 al 100. Adivinalo: ') )\n",
        "    #Acá se guardan los guess del usuario\n",
        "\n",
        "    # No nos sirve el for porque no sabemos cuántas veces va a tener que proponer un número hasta adivinarlo\n",
        "    # Entonces usamos otra secuancia de control: el while. \"Mientras se cumpla una condición, hacé tal cosa\"\n",
        "    # while <condición>: <acción>\n",
        "    # Una vez que la condición no se cumple, se sale del loop del while y se pasa a la siguiente línea\n",
        "    while userguess!=nro: # Mientras el usuario NO adivine (!= equivale a \"no igual\")...\n",
        "        if userguess>nro: # ... si el número del usuario es mayor que el de la máquina...\n",
        "            print('¡Elegí uno menor!') # ...avisarle que elija uno menor\n",
        "        elif userguess<nro: #... si el número del usuario es menor que el de la máquina...\n",
        "            print('¡Elegí uno mayor!') # ...avisarle que elija uno mayor\n",
        "\n",
        "        #Acá ya salí del if y le pido que ingrese uno de nuevo\n",
        "        userguess = int( input('Probá de nuevo ') ) # ESTA es la acción del while: pedirme que ingrese otro número.\n",
        "        # El while se ejecuta hasta que la condición se deja de cumplir, es decir, cuando el usuario adivina\n",
        "\n",
        "    #Acá ya salí del while. Entonces le tengo que avisar al usuario que ya adivinó (la condición se dejó de cumplir)\n",
        "    print('¡Adivinaste! El número que había pensado era %g y tu último ingreso fue %g.'%(nro,userguess))"
      ],
      "execution_count": null,
      "outputs": []
    },
    {
      "cell_type": "code",
      "metadata": {
        "id": "3tcq0V6npdQD"
      },
      "source": [
        "adivinador()"
      ],
      "execution_count": null,
      "outputs": []
    }
  ]
}